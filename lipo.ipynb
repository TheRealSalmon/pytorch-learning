{
 "cells": [
  {
   "cell_type": "code",
   "execution_count": 14,
   "metadata": {},
   "outputs": [],
   "source": [
    "import pandas as pd\n",
    "import numpy as np\n",
    "from rdkit import Chem\n",
    "from rdkit.Chem.rdMolDescriptors import GetHashedMorganFingerprint\n",
    "import torch\n",
    "from torch import nn\n",
    "from torch.utils.data import Dataset, random_split, DataLoader"
   ]
  },
  {
   "cell_type": "code",
   "execution_count": 110,
   "metadata": {},
   "outputs": [],
   "source": [
    "def get_morgan_fp(smi):\n",
    "    mol = Chem.MolFromSmiles(smi)\n",
    "    fp = GetHashedMorganFingerprint(mol, radius=2, nBits=2048, useChirality=True)\n",
    "    return np.array(fp.ToList())\n",
    "\n",
    "class LipoDataset(Dataset):\n",
    "    def __init__(self):\n",
    "        df = pd.read_csv('lipo.csv')\n",
    "        self.labels = df['exp'].to_numpy()\n",
    "        self.fps = np.vectorize(get_morgan_fp, otypes=[np.ndarray])(df.smiles.to_numpy())\n",
    "\n",
    "    def __len__(self):\n",
    "        return self.labels.shape[0]\n",
    "\n",
    "    def __getitem__(self, idx):\n",
    "        return np.ndarray.astype(self.fps[idx], np.float64), self.labels[idx]"
   ]
  },
  {
   "cell_type": "code",
   "execution_count": 111,
   "metadata": {},
   "outputs": [],
   "source": [
    "lipo_dataset = LipoDataset()\n",
    "size_dataset = len(lipo_dataset)"
   ]
  },
  {
   "cell_type": "code",
   "execution_count": 112,
   "metadata": {},
   "outputs": [
    {
     "data": {
      "text/plain": [
       "dtype('float64')"
      ]
     },
     "execution_count": 112,
     "metadata": {},
     "output_type": "execute_result"
    }
   ],
   "source": [
    "m, n = next(iter(lipo_dataset))\n",
    "n.dtype"
   ]
  },
  {
   "cell_type": "code",
   "execution_count": 113,
   "metadata": {},
   "outputs": [],
   "source": [
    "size_train = int(np.rint(size_dataset * 0.8))\n",
    "size_valid = int(np.rint(size_dataset * 0.1))\n",
    "size_test = size_dataset - (size_train + size_valid)"
   ]
  },
  {
   "cell_type": "code",
   "execution_count": 114,
   "metadata": {},
   "outputs": [],
   "source": [
    "train_dataset, valid_dataset, test_dataset = random_split(lipo_dataset, [size_train, size_valid, size_test])"
   ]
  },
  {
   "cell_type": "code",
   "execution_count": 115,
   "metadata": {},
   "outputs": [],
   "source": [
    "train_dataloader = DataLoader(train_dataset, batch_size=64, shuffle=True)\n",
    "valid_dataloader = DataLoader(valid_dataset, batch_size=64, shuffle=True)"
   ]
  },
  {
   "cell_type": "code",
   "execution_count": 148,
   "metadata": {},
   "outputs": [],
   "source": [
    "class NeuralNetwork(nn.Module):\n",
    "    def __init__(self):\n",
    "        super(NeuralNetwork, self).__init__()\n",
    "        self.linear_relu_stack = nn.Sequential(\n",
    "            nn.Linear(2048, 1024),\n",
    "            nn.ReLU(),\n",
    "            nn.Linear(1024, 512),\n",
    "            nn.ReLU(),\n",
    "            nn.Linear(512, 256),\n",
    "            nn.ReLU(),\n",
    "            nn.Linear(256, 1),\n",
    "        )\n",
    "\n",
    "    def forward(self, x):\n",
    "        logits = self.linear_relu_stack(x)\n",
    "        return logits"
   ]
  },
  {
   "cell_type": "code",
   "execution_count": 149,
   "metadata": {},
   "outputs": [
    {
     "name": "stdout",
     "output_type": "stream",
     "text": [
      "NeuralNetwork(\n",
      "  (linear_relu_stack): Sequential(\n",
      "    (0): Linear(in_features=2048, out_features=1024, bias=True)\n",
      "    (1): ReLU()\n",
      "    (2): Linear(in_features=1024, out_features=512, bias=True)\n",
      "    (3): ReLU()\n",
      "    (4): Linear(in_features=512, out_features=256, bias=True)\n",
      "    (5): ReLU()\n",
      "    (6): Linear(in_features=256, out_features=1, bias=True)\n",
      "  )\n",
      ")\n"
     ]
    }
   ],
   "source": [
    "model = NeuralNetwork()\n",
    "print(model)"
   ]
  },
  {
   "cell_type": "code",
   "execution_count": 150,
   "metadata": {},
   "outputs": [],
   "source": [
    "learning_rate = 1e-3\n",
    "epochs = 10\n",
    "loss_fn = nn.MSELoss()\n",
    "optimizer = torch.optim.SGD(model.parameters(), lr=learning_rate)"
   ]
  },
  {
   "cell_type": "code",
   "execution_count": 151,
   "metadata": {},
   "outputs": [],
   "source": [
    "def train_loop(dataloader, model, loss_fn, optimizer):\n",
    "    size = len(dataloader.dataset)\n",
    "    for batch, (X, y) in enumerate(dataloader):\n",
    "        # Compute prediction and loss\n",
    "        pred = model(X.float()).double()\n",
    "        loss = loss_fn(pred, y)\n",
    "\n",
    "        # Backpropagation\n",
    "        optimizer.zero_grad()\n",
    "        loss.backward()\n",
    "        optimizer.step()\n",
    "\n",
    "        if batch % 20 == 0:\n",
    "            loss, current = loss.item(), batch * len(X)\n",
    "            print(f\"loss: {loss:>7f}  [{current:>5d}/{size:>5d}]\")\n",
    "\n",
    "def test_loop(dataloader, model, loss_fn):\n",
    "    size = len(dataloader.dataset)\n",
    "    num_batches = len(dataloader)\n",
    "    test_loss, correct = 0, 0\n",
    "\n",
    "    with torch.no_grad():\n",
    "        for X, y in dataloader:\n",
    "            pred = model(X.float()).double()\n",
    "            test_loss += loss_fn(pred, y).item()\n",
    "\n",
    "    test_loss /= num_batches\n",
    "    correct /= size\n",
    "    print(f\"Avg loss: {test_loss:>8f} \\n\")"
   ]
  },
  {
   "cell_type": "code",
   "execution_count": 152,
   "metadata": {},
   "outputs": [
    {
     "name": "stdout",
     "output_type": "stream",
     "text": [
      "Epoch 1\n",
      "-------------------------------\n",
      "loss: 7.092487  [    0/ 3360]\n",
      "loss: 5.467043  [ 1280/ 3360]\n",
      "loss: 5.227544  [ 2560/ 3360]\n",
      "Avg loss: 4.600107 \n",
      "\n",
      "Epoch 2\n",
      "-------------------------------\n",
      "loss: 4.465962  [    0/ 3360]\n",
      "loss: 2.973189  [ 1280/ 3360]\n",
      "loss: 2.014531  [ 2560/ 3360]\n",
      "Avg loss: 2.080664 \n",
      "\n",
      "Epoch 3\n",
      "-------------------------------\n",
      "loss: 1.746188  [    0/ 3360]\n",
      "loss: 1.541743  [ 1280/ 3360]\n",
      "loss: 1.761625  [ 2560/ 3360]\n",
      "Avg loss: 1.695774 \n",
      "\n",
      "Epoch 4\n",
      "-------------------------------\n",
      "loss: 1.751262  [    0/ 3360]\n",
      "loss: 1.363201  [ 1280/ 3360]\n",
      "loss: 1.410647  [ 2560/ 3360]\n",
      "Avg loss: 1.699437 \n",
      "\n",
      "Epoch 5\n",
      "-------------------------------\n",
      "loss: 1.763343  [    0/ 3360]\n",
      "loss: 1.476708  [ 1280/ 3360]\n",
      "loss: 1.452687  [ 2560/ 3360]\n",
      "Avg loss: 1.714463 \n",
      "\n",
      "Epoch 6\n",
      "-------------------------------\n",
      "loss: 1.974288  [    0/ 3360]\n",
      "loss: 1.983840  [ 1280/ 3360]\n",
      "loss: 1.672390  [ 2560/ 3360]\n",
      "Avg loss: 1.663034 \n",
      "\n",
      "Epoch 7\n",
      "-------------------------------\n",
      "loss: 1.677062  [    0/ 3360]\n",
      "loss: 1.608085  [ 1280/ 3360]\n",
      "loss: 1.284540  [ 2560/ 3360]\n",
      "Avg loss: 1.646210 \n",
      "\n",
      "Epoch 8\n",
      "-------------------------------\n",
      "loss: 1.576558  [    0/ 3360]\n",
      "loss: 1.421021  [ 1280/ 3360]\n",
      "loss: 1.500189  [ 2560/ 3360]\n",
      "Avg loss: 1.658317 \n",
      "\n",
      "Epoch 9\n",
      "-------------------------------\n",
      "loss: 1.503507  [    0/ 3360]\n",
      "loss: 1.567837  [ 1280/ 3360]\n",
      "loss: 1.462621  [ 2560/ 3360]\n",
      "Avg loss: 1.666303 \n",
      "\n",
      "Epoch 10\n",
      "-------------------------------\n",
      "loss: 1.515945  [    0/ 3360]\n",
      "loss: 1.779326  [ 1280/ 3360]\n",
      "loss: 1.950964  [ 2560/ 3360]\n",
      "Avg loss: 1.634821 \n",
      "\n",
      "Done!\n"
     ]
    }
   ],
   "source": [
    "for t in range(epochs):\n",
    "    print(f\"Epoch {t+1}\\n-------------------------------\")\n",
    "    train_loop(train_dataloader, model, loss_fn, optimizer)\n",
    "    test_loop(valid_dataloader, model, loss_fn)\n",
    "print(\"Done!\")"
   ]
  },
  {
   "cell_type": "code",
   "execution_count": null,
   "metadata": {},
   "outputs": [],
   "source": []
  }
 ],
 "metadata": {
  "kernelspec": {
   "display_name": "Python 3.10.4 ('torch')",
   "language": "python",
   "name": "python3"
  },
  "language_info": {
   "codemirror_mode": {
    "name": "ipython",
    "version": 3
   },
   "file_extension": ".py",
   "mimetype": "text/x-python",
   "name": "python",
   "nbconvert_exporter": "python",
   "pygments_lexer": "ipython3",
   "version": "3.10.4"
  },
  "orig_nbformat": 4,
  "vscode": {
   "interpreter": {
    "hash": "08f82b7b12275767a18c98e03874377b076618445b5ec5805576f11e3073798c"
   }
  }
 },
 "nbformat": 4,
 "nbformat_minor": 2
}
