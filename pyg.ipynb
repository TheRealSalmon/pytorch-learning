{
 "cells": [
  {
   "cell_type": "code",
   "execution_count": 47,
   "metadata": {},
   "outputs": [],
   "source": [
    "import torch\n",
    "import torch_geometric\n",
    "from torch_geometric.datasets import MoleculeNet\n",
    "from torch_geometric.loader import DataLoader\n",
    "from torch_geometric.nn import (\n",
    "    GCNConv,\n",
    "    SAGEConv,\n",
    ")"
   ]
  },
  {
   "cell_type": "code",
   "execution_count": 48,
   "metadata": {},
   "outputs": [
    {
     "data": {
      "text/plain": [
       "tensor([[-0.0882, -0.1694, -0.2720,  0.0428, -0.1833, -0.1663, -0.2670,  0.2422,\n",
       "         -0.4233,  0.0245, -0.4868,  0.3621, -0.2401,  0.1632, -0.1223, -0.2220],\n",
       "        [-0.1985, -0.3419, -0.2156,  0.0142,  0.0194, -0.2281,  0.0438,  0.1834,\n",
       "         -0.5330,  0.0068, -0.3650, -0.0185,  0.1902,  0.2504, -0.4341,  0.0638],\n",
       "        [-0.1533, -0.3346, -0.1748,  0.0336, -0.1050, -0.1802,  0.0070,  0.2982,\n",
       "         -0.5604,  0.0025, -0.4101,  0.0995,  0.0821,  0.2394, -0.3797, -0.0053],\n",
       "        [-0.1835, -0.3442, -0.1984,  0.0256,  0.0187, -0.2349,  0.0298,  0.1934,\n",
       "         -0.5285, -0.0102, -0.3622, -0.0129,  0.1974,  0.2430, -0.4478,  0.0681],\n",
       "        [-0.0882, -0.1694, -0.2720,  0.0428, -0.1833, -0.1663, -0.2670,  0.2422,\n",
       "         -0.4233,  0.0245, -0.4868,  0.3621, -0.2401,  0.1632, -0.1223, -0.2220],\n",
       "        [-0.1668, -0.3462, -0.1792,  0.0379,  0.0178, -0.2419,  0.0144,  0.2040,\n",
       "         -0.5226, -0.0288, -0.3585, -0.0067,  0.2048,  0.2346, -0.4619,  0.0727],\n",
       "        [-0.0882, -0.1694, -0.2720,  0.0428, -0.1833, -0.1663, -0.2670,  0.2422,\n",
       "         -0.4233,  0.0245, -0.4868,  0.3621, -0.2401,  0.1632, -0.1223, -0.2220],\n",
       "        [-0.1835, -0.3442, -0.1984,  0.0256,  0.0187, -0.2349,  0.0298,  0.1934,\n",
       "         -0.5285, -0.0102, -0.3622, -0.0129,  0.1974,  0.2430, -0.4478,  0.0681],\n",
       "        [-0.0882, -0.1694, -0.2720,  0.0428, -0.1833, -0.1663, -0.2670,  0.2422,\n",
       "         -0.4233,  0.0245, -0.4868,  0.3621, -0.2401,  0.1632, -0.1223, -0.2220],\n",
       "        [-0.1533, -0.3346, -0.1748,  0.0336, -0.1050, -0.1802,  0.0070,  0.2982,\n",
       "         -0.5604,  0.0025, -0.4101,  0.0995,  0.0821,  0.2394, -0.3797, -0.0053]],\n",
       "       dtype=torch.float64, grad_fn=<DivBackward0>)"
      ]
     },
     "execution_count": 48,
     "metadata": {},
     "output_type": "execute_result"
    }
   ],
   "source": [
    "esol = MoleculeNet(root='.', name='esol').shuffle()\n",
    "\n",
    "dataloader = DataLoader(esol, batch_size=1)\n",
    "\n",
    "for batch in dataloader:\n",
    "    break\n",
    "\n",
    "# GCNConv(esol.num_features, 16).double()(batch.x.double(), batch.edge_index)\n",
    "SAGEConv(esol.num_features, 16, 'sum', True, ).double()(batch.x.double(), batch.edge_index)"
   ]
  }
 ],
 "metadata": {
  "kernelspec": {
   "display_name": "torch",
   "language": "python",
   "name": "python3"
  },
  "language_info": {
   "codemirror_mode": {
    "name": "ipython",
    "version": 3
   },
   "file_extension": ".py",
   "mimetype": "text/x-python",
   "name": "python",
   "nbconvert_exporter": "python",
   "pygments_lexer": "ipython3",
   "version": "3.8.16"
  },
  "orig_nbformat": 4,
  "vscode": {
   "interpreter": {
    "hash": "08f82b7b12275767a18c98e03874377b076618445b5ec5805576f11e3073798c"
   }
  }
 },
 "nbformat": 4,
 "nbformat_minor": 2
}
