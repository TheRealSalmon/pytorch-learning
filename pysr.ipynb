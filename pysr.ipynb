{
 "cells": [
  {
   "cell_type": "markdown",
   "metadata": {},
   "source": [
    "## using Morse potential"
   ]
  },
  {
   "cell_type": "code",
   "execution_count": 1,
   "metadata": {},
   "outputs": [],
   "source": [
    "import matplotlib.pyplot as plt\n",
    "import numpy as np\n",
    "from sklearn.metrics import mean_squared_error\n",
    "\n",
    "import sympy"
   ]
  },
  {
   "cell_type": "code",
   "execution_count": 2,
   "metadata": {},
   "outputs": [],
   "source": [
    "def morse(r, D, a, r_e):\n",
    "    return D * np.power(1 - np.power(np.e, -a * (r - r_e)), 2)"
   ]
  },
  {
   "cell_type": "code",
   "execution_count": 3,
   "metadata": {},
   "outputs": [
    {
     "data": {
      "image/png": "[encoded data removed]",
      "text/plain": [
       "<Figure size 432x288 with 1 Axes>"
      ]
     },
     "metadata": {
      "needs_background": "light"
     },
     "output_type": "display_data"
    }
   ],
   "source": [
    "# dat = \"\"\"0.60000000 -100.16346911\n",
    "# 0.61500000 -100.20218643\n",
    "# 0.63000000 -100.23650420\n",
    "# 0.64500000 -100.26688924\n",
    "# 0.66000000 -100.29375354\n",
    "# 0.67500000 -100.31746308\n",
    "# 0.69000000 -100.33834042\n",
    "# 0.70500000 -100.35667119\n",
    "dat = \"\"\"0.72000000 -100.37271334\n",
    "0.73500000 -100.38670147\n",
    "0.75000000 -100.39884400\n",
    "0.76500000 -100.40932655\n",
    "0.78000000 -100.41831382\n",
    "0.79500000 -100.42595322\n",
    "0.81000000 -100.43237930\n",
    "0.82500000 -100.43771382\n",
    "0.84000000 -100.44206521\n",
    "0.85500000 -100.44553112\n",
    "0.87000000 -100.44819929\n",
    "0.88500000 -100.45014881\n",
    "0.90000000 -100.45145231\n",
    "0.91500000 -100.45217621\n",
    "0.93000000 -100.45238025\n",
    "0.94500000 -100.45211776\n",
    "0.96000000 -100.45143683\n",
    "0.97500000 -100.45038093\n",
    "0.99000000 -100.44898953\n",
    "1.00500000 -100.44729878\n",
    "1.02000000 -100.44534179\n",
    "1.03500000 -100.44314866\n",
    "1.05000000 -100.44074656\n",
    "1.06500000 -100.43815995\n",
    "1.08000000 -100.43541108\n",
    "1.09500000 -100.43252014\n",
    "1.11000000 -100.42950563\n",
    "1.12500000 -100.42638455\n",
    "1.14000000 -100.42317241\n",
    "1.15500000 -100.41988328\n",
    "1.17000000 -100.41652993\n",
    "1.18500000 -100.41312390\n",
    "1.20000000 -100.40967556\n",
    "1.30000000 -100.38619971\n",
    "1.40000000 -100.36307046\"\"\".split('\\n')\n",
    "# 1.50000000 -100.34134612\n",
    "# 1.60000000 -100.32147709\n",
    "# 1.70000000 -100.30355472\n",
    "# 1.80000000 -100.28755085\n",
    "# 1.90000000 -100.27341251\n",
    "# 2.00000000 -100.26094819\n",
    "# 2.10000000 -100.24997433\n",
    "# 2.20000000 -100.24034566\n",
    "# 2.30000000 -100.23191021\n",
    "# 2.40000000 -100.22458045\n",
    "# 2.50000000 -100.21826310\n",
    "# 2.60000000 -100.21277720\n",
    "# 2.70000000 -100.20806786\n",
    "# 2.80000000 -100.20411952\n",
    "# 2.90000000 -100.20077045\n",
    "# 3.00000000 -100.19786569\n",
    "# 3.10000000 -100.19551633\n",
    "# 3.20000000 -100.19347838\n",
    "# 3.30000000 -100.19169822\n",
    "# 3.40000000 -100.19018273\n",
    "# 3.50000000 -100.18889901\n",
    "# 3.60000000 -100.18781084\n",
    "# 3.70000000 -100.18688003\n",
    "# 3.80000000 -100.18607544\n",
    "# 3.90000000 -100.18537842\n",
    "# 4.00000000 -100.18477791\n",
    "# 4.10000000 -100.18426620\n",
    "# 4.20000000 -100.18383642\n",
    "# 4.30000000 -100.18348139\n",
    "# 4.40000000 -100.18319354\n",
    "# 4.50000000 -100.18296610\"\"\".split('\\n')\n",
    "dat = [row.split() for row in dat]\n",
    "bond_length = np.array([float(row[0]) for row in dat])\n",
    "energy = [float(row[1])*627.5 for row in dat]\n",
    "min_energy = min(energy)\n",
    "energy = np.array([e - min_energy for e in energy])\n",
    "\n",
    "plt.scatter(bond_length, energy)\n",
    "plt.show()"
   ]
  },
  {
   "cell_type": "code",
   "execution_count": 4,
   "metadata": {},
   "outputs": [
    {
     "data": {
      "text/plain": [
       "(8.651214372827818, 190, 1.4, 0.9999999999999999)"
      ]
     },
     "execution_count": 4,
     "metadata": {},
     "output_type": "execute_result"
    }
   ],
   "source": [
    "D_range = range(100, 200, 10)\n",
    "a_range = np.arange(0.5, 1.5, 0.1)\n",
    "r_e_range = np.arange(0.5, 1.5, 0.1)\n",
    "\n",
    "params = []\n",
    "for D in D_range:\n",
    "    for a in a_range:\n",
    "        for r_e in r_e_range:\n",
    "            pred_e = [morse(r, D, a, r_e) for r in bond_length]\n",
    "            mse = np.sqrt(mean_squared_error(energy, pred_e))\n",
    "            params.append((mse, D, a, r_e))\n",
    "\n",
    "params = sorted(params, key=lambda x: x[0])\n",
    "params[0]"
   ]
  },
  {
   "cell_type": "code",
   "execution_count": 5,
   "metadata": {},
   "outputs": [
    {
     "name": "stdout",
     "output_type": "stream",
     "text": [
      "74.84351012462263\n"
     ]
    },
    {
     "data": {
      "image/png": "[encoded data removed]",
      "text/plain": [
       "<Figure size 432x288 with 1 Axes>"
      ]
     },
     "metadata": {
      "needs_background": "light"
     },
     "output_type": "display_data"
    }
   ],
   "source": [
    "best_params = params[0]\n",
    "D = best_params[1]\n",
    "a = best_params[2]\n",
    "r_e = best_params[3]\n",
    "\n",
    "pred_e = pred_e = [morse(r, D, a, r_e) for r in bond_length]\n",
    "\n",
    "print(mean_squared_error(energy, pred_e))\n",
    "\n",
    "plt.scatter(bond_length, energy, label='DFT energy')\n",
    "plt.scatter(bond_length, pred_e, label='Morse Potential')\n",
    "plt.legend()\n",
    "plt.show()"
   ]
  },
  {
   "cell_type": "code",
   "execution_count": 6,
   "metadata": {},
   "outputs": [
    {
     "data": {
      "text/plain": [
       "(3.7181650303252622, 199, 1.6000000000000003, 0.9500000000000002)"
      ]
     },
     "execution_count": 6,
     "metadata": {},
     "output_type": "execute_result"
    }
   ],
   "source": [
    "D_range = range(160, 200, 1)\n",
    "a_range = np.arange(1.2, 1.6, 0.01)\n",
    "r_e_range = np.arange(0.8, 1.2, 0.01)\n",
    "\n",
    "params = []\n",
    "for D in D_range:\n",
    "    for a in a_range:\n",
    "        for r_e in r_e_range:\n",
    "            pred_e = [morse(r, D, a, r_e) for r in bond_length]\n",
    "            mse = np.sqrt(mean_squared_error(energy, pred_e))\n",
    "            params.append((mse, D, a, r_e))\n",
    "\n",
    "params = sorted(params, key=lambda x: x[0])\n",
    "params[0]"
   ]
  },
  {
   "cell_type": "code",
   "execution_count": 7,
   "metadata": {},
   "outputs": [
    {
     "name": "stdout",
     "output_type": "stream",
     "text": [
      "13.82475119273366\n"
     ]
    },
    {
     "data": {
      "image/png": "[encoded data removed]",
      "text/plain": [
       "<Figure size 432x288 with 1 Axes>"
      ]
     },
     "metadata": {
      "needs_background": "light"
     },
     "output_type": "display_data"
    }
   ],
   "source": [
    "best_params = params[0]\n",
    "D = best_params[1]\n",
    "a = best_params[2]\n",
    "r_e = best_params[3]\n",
    "\n",
    "pred_e = pred_e = [morse(r, D, a, r_e) for r in bond_length]\n",
    "\n",
    "print(mean_squared_error(energy, pred_e))\n",
    "\n",
    "plt.scatter(bond_length, energy, label='DFT energy')\n",
    "plt.scatter(bond_length, pred_e, label='Morse Potential')\n",
    "plt.legend()\n",
    "plt.show()"
   ]
  },
  {
   "cell_type": "markdown",
   "metadata": {},
   "source": [
    "## learning symbolic regression"
   ]
  },
  {
   "cell_type": "code",
   "execution_count": 8,
   "metadata": {},
   "outputs": [],
   "source": [
    "import pandas as pd\n",
    "\n",
    "from gplearn.genetic import SymbolicRegressor\n",
    "from gplearn.functions import make_function\n",
    "from sklearn.model_selection import train_test_split\n",
    "from sklearn.ensemble import RandomForestRegressor\n",
    "from sklearn.tree import DecisionTreeRegressor\n",
    "import sympy"
   ]
  },
  {
   "cell_type": "code",
   "execution_count": 38,
   "metadata": {},
   "outputs": [
    {
     "data": {
      "image/png": "[encoded data removed]",
      "text/plain": [
       "<Figure size 432x288 with 1 Axes>"
      ]
     },
     "metadata": {
      "needs_background": "light"
     },
     "output_type": "display_data"
    }
   ],
   "source": [
    "nsample = 400\n",
    "sig = 0.2\n",
    "x = np.linspace(-50, 50, nsample)\n",
    "X = np.column_stack((x/5, 10*np.sin(x), (x-5)**3, np.ones(nsample)))\n",
    "beta = [0.01, 1, 0.001, 5.]\n",
    "y_true = np.dot(X, beta)\n",
    "y = y_true + sig * np.random.normal(size=nsample)\n",
    "df = pd.DataFrame()\n",
    "df['x']=x\n",
    "df['y']=y\n",
    "\n",
    "plt.scatter(x, y)\n",
    "plt.show()"
   ]
  },
  {
   "cell_type": "code",
   "execution_count": 40,
   "metadata": {},
   "outputs": [],
   "source": [
    "X = df[['x']]\n",
    "y = df['y']\n",
    "y_true = y\n",
    "X_train, X_test, y_train, y_test = train_test_split(X, y, test_size=0.30, random_state=42)"
   ]
  },
  {
   "cell_type": "code",
   "execution_count": 43,
   "metadata": {},
   "outputs": [],
   "source": [
    "function_set = ['add', 'sub', 'mul', 'div','cos','sin','neg','inv']\n",
    "model = SymbolicRegressor(\n",
    "    population_size=5000,\n",
    "    function_set=function_set,\n",
    "    generations=40,\n",
    "    stopping_criteria=0.01,\n",
    "    p_crossover=0.7,\n",
    "    p_subtree_mutation=0.1,\n",
    "    p_hoist_mutation=0.05,\n",
    "    p_point_mutation=0.1,\n",
    "    max_samples=0.9,\n",
    "    verbose=1,\n",
    "    parsimony_coefficient=0.01,\n",
    "    random_state=0,\n",
    "    feature_names=X_train.columns\n",
    ")"
   ]
  },
  {
   "cell_type": "code",
   "execution_count": 56,
   "metadata": {},
   "outputs": [],
   "source": [
    "converter = {\n",
    "    'sub': lambda x, y : x - y,\n",
    "    'div': lambda x, y : x/y,\n",
    "    'mul': lambda x, y : x*y,\n",
    "    'add': lambda x, y : x + y,\n",
    "    'neg': lambda x    : -x,\n",
    "    'pow': lambda x, y : x**y,\n",
    "    'sin': lambda x    : sympy.sin(x),\n",
    "    'cos': lambda x    : sympy.cos(x),\n",
    "    'inv': lambda x: 1/x,\n",
    "    'sqrt': lambda x: x**0.5,\n",
    "    'pow3': lambda x: x**3\n",
    "}"
   ]
  },
  {
   "cell_type": "code",
   "execution_count": 46,
   "metadata": {},
   "outputs": [
    {
     "name": "stdout",
     "output_type": "stream",
     "text": [
      "    |   Population Average    |             Best Individual              |\n",
      "---- ------------------------- ------------------------------------------ ----------\n",
      " Gen   Length          Fitness   Length          Fitness      OOB Fitness  Time Left\n",
      "   0    15.94           3204.3       26          16.2824          24.3847     54.58s\n",
      "   1    11.69          515.105       11          15.9211          26.2555     51.04s\n",
      "   2     9.03          77.8841        5          15.6414          34.1542     51.43s\n",
      "   3     8.80          64.9887        8          15.7102          27.8556     45.40s\n",
      "   4     8.66          51.2491        9          15.5307          30.6203     44.07s\n",
      "   5     9.28          58.3982       10          15.2354          33.5407     45.81s\n",
      "   6     9.49          47.6819       23          15.6452          28.6469     43.51s\n",
      "   7     9.66          65.5575       18          15.5831          28.5183     46.61s\n",
      "   8     9.18          56.4732       17          15.3856          31.3633     41.15s\n",
      "   9     8.61          65.6446       13          15.4669          28.8198     42.01s\n",
      "  10     8.03          32.5385        3          15.5911          30.6419     38.25s\n",
      "  11     7.67           35.736       18          15.6174           27.239     35.35s\n",
      "  12     8.02          31.1824       15          15.6226          28.9018     33.95s\n",
      "  13     8.30          34.0249       19          15.6564          25.6541     32.67s\n",
      "  14     8.57           37.074        5          15.4703          31.0322     31.39s\n",
      "  15     9.30          47.9307       31          15.4729          26.4128     35.01s\n",
      "  16     9.82          38.0846       18          15.1434          32.4172     31.37s\n",
      "  17    10.29          58.4982       30          14.7676          33.6248     28.49s\n",
      "  18    11.08          26.6334       12          15.4169          28.2183     27.79s\n",
      "  19    12.15            30.32       21          15.2757          31.6505     27.11s\n",
      "  20    12.89          40.5776       22          14.9253          27.9765     25.91s\n",
      "  21    15.03          30.5385       29          14.9484          28.3068     25.31s\n",
      "  22    17.29           30.378       43          14.1938          29.5658     24.60s\n",
      "  23    21.68          26.0328       31           14.626          27.3433     27.35s\n",
      "  24    26.07          25.3879       61          14.5505           20.324     24.53s\n",
      "  25    30.89          26.9042       34          14.1219          23.8564     24.62s\n",
      "  26    36.38           1908.2       60          13.5618           19.925     25.54s\n",
      "  27    43.41          53.7907       61          12.8531          23.4895     24.54s\n",
      "  28    54.29          35.9299       98          12.2462          17.2077     23.72s\n",
      "  29    63.85          41.5843       98          11.7017          20.0671     23.77s\n",
      "  30    75.46          33.2404       98           11.525          20.5495     24.00s\n",
      "  31    86.84          53.3564      174          10.9177          21.3747     24.20s\n",
      "  32    95.38          29.5075      161          10.7533          15.3491     20.49s\n",
      "  33   101.59          41.5683      121          10.2135          20.7221     23.87s\n",
      "  34   107.47          31.0773      145          9.64915          18.7902     16.07s\n",
      "  35   114.90          38.2164      141          9.57361          20.6876     13.02s\n",
      "  36   120.18          28.4872      149          9.47519          18.3876     10.00s\n",
      "  37   123.13          40.0842      164          8.76381          22.5053      6.76s\n",
      "  38   128.25          26.3801      209          8.51545          15.1066      3.44s\n",
      "  39   140.63          30.3284      192          7.83782          16.4153      0.00s\n",
      "R2: 0.8616944457342777\n"
     ]
    }
   ],
   "source": [
    "model.fit(X_train, y_train)\n",
    "print('R2:',model.score(X_test, y_test))"
   ]
  },
  {
   "cell_type": "code",
   "execution_count": 61,
   "metadata": {},
   "outputs": [
    {
     "data": {
      "text/latex": [
       "$\\displaystyle 0.257471264367816 x \\sin{\\left(0.116 x \\right)} + 1.14942528735632 x - 12.6436781609195 \\sin{\\left(0.112 x \\right)} - 1.14942528735632 \\sin{\\left(0.116 x \\right)} + 6.74712643678161 \\sin{\\left(x \\right)} - 1.14942528735632 \\sin{\\left(0.116 x - \\frac{1}{x} \\right)} + 2.29885057471264 \\sin{\\left(\\sin{\\left(x \\right)} \\right)} + 4.59770114942529 \\cos{\\left(0.112 x \\right)} - 2.37868816105918$"
      ],
      "text/plain": [
       "0.257471264367816*x*sin(0.116*x) + 1.14942528735632*x - 12.6436781609195*sin(0.112*x) - 1.14942528735632*sin(0.116*x) + 6.74712643678161*sin(x) - 1.14942528735632*sin(0.116*x - 1/x) + 2.29885057471264*sin(sin(x)) + 4.59770114942529*cos(0.112*x) - 2.37868816105918"
      ]
     },
     "execution_count": 61,
     "metadata": {},
     "output_type": "execute_result"
    }
   ],
   "source": [
    "next_e = sympy.sympify(str((model._program)), locals=converter)\n",
    "next_e"
   ]
  },
  {
   "cell_type": "code",
   "execution_count": 66,
   "metadata": {},
   "outputs": [
    {
     "data": {
      "image/png": "[encoded data removed]",
      "text/plain": [
       "<Figure size 432x288 with 1 Axes>"
      ]
     },
     "metadata": {
      "needs_background": "light"
     },
     "output_type": "display_data"
    }
   ],
   "source": [
    "y_train_pred = model.predict(X_train)\n",
    "plt.scatter(X_train, y_train, label='true')\n",
    "plt.scatter(X_train, y_train_pred, label='pred')\n",
    "plt.legend()\n",
    "plt.show()"
   ]
  },
  {
   "cell_type": "code",
   "execution_count": 67,
   "metadata": {},
   "outputs": [
    {
     "name": "stdout",
     "output_type": "stream",
     "text": [
      "    |   Population Average    |             Best Individual              |\n",
      "---- ------------------------- ------------------------------------------ ----------\n",
      " Gen   Length          Fitness   Length          Fitness      OOB Fitness  Time Left\n",
      "   0    14.13       2.8592e+61       22          16.2884          27.8937      1.02m\n",
      "   1    10.69      2.35374e+42       20           13.877          16.1716     56.56s\n",
      "   2     9.09      8.16763e+13       19          13.5206          21.5453     51.66s\n",
      "   3     8.33      6.89542e+55       20           13.653          18.1874     50.74s\n",
      "   4    10.17      3.44669e+21       22          13.2646          21.0553     50.87s\n",
      "   5    16.40      1.10938e+46       24          12.6253          15.0424      1.21m\n",
      "   6    20.47     3.63293e+161       36          12.5358          11.5326     59.15s\n",
      "   7    22.08       5.3847e+45       44          12.1978          15.6909      1.03m\n",
      "   8    25.15      4.73354e+45       40          11.1905          11.8312      1.10m\n",
      "   9    31.52      1.06572e+31       30          9.51537          8.56706      1.12m\n",
      "  10    35.50      1.93599e+31       25          8.30269          7.40999      1.14m\n",
      "  11    34.68      1.50621e+46       25          7.81829          7.45618      1.12m\n",
      "  12    37.05      9.16049e+18       42          6.89856           7.4948      1.13m\n",
      "  13    38.84      1.95607e+31       46          6.79337          8.16634      1.12m\n",
      "  14    33.22      2.47276e+46       72          6.58248           6.3834      1.03m\n",
      "  15    33.26      6.44048e+26       39          6.13782          6.16473      1.08m\n",
      "  16    42.52      2.51636e+46       75          6.03556          5.78612      1.31m\n",
      "  17    48.87      8.05419e+19       94          5.05986          4.16678      1.33m\n",
      "  18    49.97      3.45946e+20      104          4.76475          3.98935      1.29m\n",
      "  19    52.76      4.13376e+17      104          4.49099          5.57694      2.06m\n",
      "  20    58.23      8.43769e+93      115          4.51961          6.11759      1.17m\n",
      "  21    73.86      1.98204e+46      133          4.40132          6.49883      1.28m\n",
      "  22    87.02      2.09372e+43      107          4.36201          6.79083      1.46m\n",
      "  23    85.01      1.08327e+92      101          4.33549          5.47256      1.31m\n",
      "  24    80.31      1.16281e+43       94          4.34206          6.36733      1.18m\n",
      "  25    76.78      2.59924e+46      159          4.32593          5.24547      1.08m\n",
      "  26    75.15      2.00155e+46       95          4.23287          5.95576      1.02m\n",
      "  27    70.79      1.21554e+18       74          4.26169          5.02366      1.05m\n",
      "  28    67.29      4.78053e+19       71          4.06729          5.98923     51.88s\n",
      "  29    64.72      3.54136e+46       74          4.17076          5.84197     47.18s\n",
      "  30    63.93      1.74277e+31       78          4.14719          4.50189     43.26s\n",
      "  31    63.83      5.73376e+18       74          3.92751          4.76574     39.31s\n",
      "  32    65.01      5.50889e+44      112           4.0033          5.78796     37.52s\n",
      "  33    65.92      1.26243e+56       73          3.91284          4.81768     34.36s\n",
      "  34    67.00      1.45355e+25       74          3.91638          4.94585     31.84s\n",
      "  35    67.50       2.2568e+18       78          3.78464          6.13359     28.53s\n",
      "  36    67.69      6.42463e+17       81          3.68754          4.23235     26.09s\n",
      "  37    66.84      1.45079e+31       81          3.60082          5.01455     22.49s\n",
      "  38    65.53      8.54662e+17       66          3.62489          5.60066     20.52s\n",
      "  39    64.61       1.2025e+22       81          3.60733          4.95596     15.25s\n",
      "  40    64.27       6.9529e+19       69          3.45961          4.66254     12.10s\n",
      "  41    64.35      2.77717e+42       61          3.46518          4.31345      9.04s\n",
      "  42    65.21     3.06372e+132       77          3.38237          4.56282      6.08s\n",
      "  43    66.10       5.3629e+19       74           3.2101          3.41521      3.10s\n",
      "  44    65.45       1.0599e+31       78          3.07574          2.80158      0.00s\n",
      "R2: 0.9932855711856312\n"
     ]
    },
    {
     "data": {
      "text/latex": [
       "$\\displaystyle 0.0741163229885058 x + 0.0616482450478492 \\left(0.250033716187801 x + 0.465561710285035 \\sin{\\left(x \\right)} - 1\\right)^{3} + 5.32487706267061 \\sin{\\left(x \\right)} + 0.956311526352242$"
      ],
      "text/plain": [
       "0.0741163229885058*x + 0.0616482450478492*(0.250033716187801*x + 0.465561710285035*sin(x) - 1)**3 + 5.32487706267061*sin(x) + 0.956311526352242"
      ]
     },
     "execution_count": 67,
     "metadata": {},
     "output_type": "execute_result"
    }
   ],
   "source": [
    "def pow_3(x1):\n",
    "    return x1**3\n",
    "pow_3 = make_function(function=pow_3,name='pow3',arity=1)\n",
    "\n",
    "# add the new function to the function_set\n",
    "function_set = ['add', 'sub', 'mul', 'div','cos','sin','neg','inv', pow_3]\n",
    "model = SymbolicRegressor(\n",
    "    population_size=5000,\n",
    "    function_set=function_set,\n",
    "    generations=45,\n",
    "    stopping_criteria=0.01,\n",
    "    p_crossover=0.7,\n",
    "    p_subtree_mutation=0.1,\n",
    "    p_hoist_mutation=0.05,\n",
    "    p_point_mutation=0.1,\n",
    "    max_samples=0.9,\n",
    "    verbose=1,\n",
    "    parsimony_coefficient=0.01,\n",
    "    random_state=0,\n",
    "    feature_names=X_train.columns\n",
    ")\n",
    "model.fit(X_train, y_train)\n",
    "print('R2:', model.score(X_test,y_test))\n",
    "next_e = sympy.sympify(str(model._program), locals=converter)\n",
    "next_e"
   ]
  },
  {
   "cell_type": "code",
   "execution_count": 68,
   "metadata": {},
   "outputs": [
    {
     "data": {
      "image/png": "[encoded data removed]",
      "text/plain": [
       "<Figure size 432x288 with 1 Axes>"
      ]
     },
     "metadata": {
      "needs_background": "light"
     },
     "output_type": "display_data"
    }
   ],
   "source": [
    "y_train_pred = model.predict(X_train)\n",
    "plt.scatter(X_train, y_train, label='true')\n",
    "plt.scatter(X_train, y_train_pred, label='pred')\n",
    "plt.legend()\n",
    "plt.show()"
   ]
  },
  {
   "cell_type": "markdown",
   "metadata": {},
   "source": [
    "## symbolic regression vs Morse"
   ]
  },
  {
   "cell_type": "code",
   "execution_count": 9,
   "metadata": {},
   "outputs": [
    {
     "data": {
      "image/png": "[encoded data removed]",
      "text/plain": [
       "<Figure size 432x288 with 1 Axes>"
      ]
     },
     "metadata": {
      "needs_background": "light"
     },
     "output_type": "display_data"
    }
   ],
   "source": [
    "df = pd.DataFrame()\n",
    "df['bond_length'] = bond_length\n",
    "df['pred_e'] = pred_e\n",
    "df['y'] = energy\n",
    "\n",
    "plt.scatter(df.bond_length, df.y)\n",
    "plt.show()"
   ]
  },
  {
   "cell_type": "code",
   "execution_count": 19,
   "metadata": {},
   "outputs": [],
   "source": [
    "X = df[['bond_length', 'pred_e']]\n",
    "# X = df[['bond_length']]\n",
    "y = df['y']"
   ]
  },
  {
   "cell_type": "code",
   "execution_count": 92,
   "metadata": {},
   "outputs": [],
   "source": [
    "def gauss(x1):\n",
    "    return np.power(np.e, -x1**2)\n",
    "gauss = make_function(function=gauss,name='gauss',arity=1)\n",
    "\n",
    "function_set = ['add', 'sub', 'mul', 'div', 'neg', 'inv', gauss]\n",
    "\n",
    "model = SymbolicRegressor(\n",
    "    population_size=5000,\n",
    "    function_set=function_set,\n",
    "    generations=40,\n",
    "    stopping_criteria=0.01,\n",
    "    p_crossover=0.7,\n",
    "    p_subtree_mutation=0.1,\n",
    "    p_hoist_mutation=0.05,\n",
    "    p_point_mutation=0.1,\n",
    "    max_samples=0.9,\n",
    "    verbose=1,\n",
    "    # parsimony_coefficient=0.01,\n",
    "    parsimony_coefficient=0.035,\n",
    "    random_state=0,\n",
    "    feature_names=X.columns,\n",
    "    metric='mse'\n",
    ")"
   ]
  },
  {
   "cell_type": "code",
   "execution_count": 93,
   "metadata": {},
   "outputs": [],
   "source": [
    "converter = {\n",
    "    'add': lambda x, y : x + y,\n",
    "    'sub': lambda x, y : x - y,\n",
    "    'mul': lambda x, y : x*y,\n",
    "    'div': lambda x, y : x/y,\n",
    "    'neg': lambda x    : -x,\n",
    "    'inv': lambda x: 1/x,\n",
    "    'gauss': lambda x: np.power(np.e, -x**2)\n",
    "}"
   ]
  },
  {
   "cell_type": "code",
   "execution_count": 94,
   "metadata": {},
   "outputs": [
    {
     "name": "stdout",
     "output_type": "stream",
     "text": [
      "    |   Population Average    |             Best Individual              |\n",
      "---- ------------------------- ------------------------------------------ ----------\n",
      " Gen   Length          Fitness   Length          Fitness      OOB Fitness  Time Left\n"
     ]
    },
    {
     "name": "stderr",
     "output_type": "stream",
     "text": [
      "/Users/ozone/opt/miniconda3/envs/molclub/lib/python3.10/site-packages/gplearn/functions.py:144: RuntimeWarning: overflow encountered in true_divide\n",
      "  return np.where(np.abs(x1) > 0.001, 1. / x1, 0.)\n",
      "/Users/ozone/opt/miniconda3/envs/molclub/lib/python3.10/site-packages/gplearn/functions.py:127: RuntimeWarning: overflow encountered in true_divide\n",
      "  return np.where(np.abs(x2) > 0.001, np.divide(x1, x2), 1.)\n"
     ]
    },
    {
     "name": "stdout",
     "output_type": "stream",
     "text": [
      "   0    16.41      2.64955e+13       16          3.53093          4.63078     52.90s\n",
      "   1    12.69      3.02598e+06       20          3.34232          5.53947     51.18s\n",
      "   2    11.22           158456       14          2.94077          15.9682     48.22s\n",
      "   3    12.67       4.9019e+07       11          2.63315          14.3409     46.48s\n",
      "   4     9.07          23845.4       15          2.73108          13.5383     43.12s\n",
      "   5     6.30      3.18826e+06       15          2.52765          18.1942     39.51s\n",
      "   6     5.44       6.9593e+07       17          2.45937          9.35157     38.95s\n",
      "   7     5.07          15765.6       15          2.57779          8.43377     39.23s\n",
      "   8     4.75           135300        8          2.63201          17.0191     36.53s\n",
      "   9     4.51           280032       15          2.56379          8.54231     33.91s\n",
      "  10     4.54           216789       15          2.61751          8.12595     42.53s\n",
      "  11     4.38           273999        5          2.75447          15.7418     35.19s\n",
      "  12     4.59          29851.2       15          2.63575          7.98458     30.16s\n",
      "  13     4.74          17864.2       15          2.70267          7.46601     29.23s\n",
      "  14     4.87          20616.5       15           2.6828          7.62001     27.87s\n",
      "  15     5.08          17073.9       15          2.48844          9.12629     28.71s\n",
      "  16     5.37          19013.9        7          2.35703          22.2358     25.92s\n",
      "  17     5.68            23579       12           2.6589          7.89929     25.90s\n",
      "  18     6.42            41061        5          2.58798          15.0885     25.32s\n",
      "  19     6.85           234930        5          2.49148          18.3896     24.14s\n",
      "  20     7.44          71392.2        5          2.50276          18.3021     24.06s\n",
      "  21     8.36          63000.6        7          2.59085          18.1358     21.45s\n",
      "  22     9.01      5.25484e+08       14          2.58783          7.02594     20.66s\n",
      "  23     9.96        1.974e+07       14          2.49163          7.77147     19.67s\n",
      "  24    10.83           160146       14          2.48864          7.79465     20.03s\n",
      "  25    11.51           969935       14          2.45997          8.01684     17.73s\n",
      "  26    12.11           163751       14           2.2403          9.71931     16.58s\n",
      "  27    12.66           234394       19          2.41931          8.59741     15.41s\n",
      "  28    12.85           373044       14          2.25661           9.5929     15.23s\n",
      "  29    13.24           276396       18          2.06507          13.9036     13.00s\n",
      "  30    13.79      1.96164e+06       20          1.98018          14.0622     11.77s\n",
      "  31    14.35           508102       18          2.08028          13.7857     10.41s\n",
      "  32    15.02           533291       16          2.16236          10.5094      9.13s\n",
      "  33    15.38      3.21792e+06       22          2.04679          13.5066      8.32s\n",
      "  34    15.78      1.10792e+08       22            1.947          27.5242      6.54s\n",
      "  35    16.05           800805       20          1.93118           14.442      5.26s\n",
      "  36    15.94           842409       20          1.98336          14.0375      3.91s\n",
      "  37    16.10           738880       24          1.66513          59.6143      2.62s\n",
      "  38    16.19      1.01537e+06       28          1.85421          245.832      1.55s\n",
      "  39    16.31           819403       20          1.84602           15.102      0.00s\n",
      "R2: 0.9845678093210893\n"
     ]
    }
   ],
   "source": [
    "model.fit(X, y)\n",
    "print('R2:', model.score(X, y))"
   ]
  },
  {
   "cell_type": "code",
   "execution_count": 96,
   "metadata": {},
   "outputs": [
    {
     "data": {
      "text/latex": [
       "$\\displaystyle 2.71828182845905^{\\frac{0.088804}{bond_{length}^{2}}} \\left(bond_{length}^{6} + pred_{e}\\right)$"
      ],
      "text/plain": [
       "2.71828182845905**(0.088804/bond_length**2)*(bond_length**6 + pred_e)"
      ]
     },
     "execution_count": 96,
     "metadata": {},
     "output_type": "execute_result"
    }
   ],
   "source": [
    "next_e = sympy.sympify(str((model._program)), locals=converter)\n",
    "next_e"
   ]
  },
  {
   "cell_type": "code",
   "execution_count": 77,
   "metadata": {},
   "outputs": [
    {
     "data": {
      "text/latex": [
       "$\\displaystyle 2.71828182845905^{\\frac{0.097344}{bond_{length}^{2}}} \\left(bond_{length}^{7} + pred_{e}\\right)$"
      ],
      "text/plain": [
       "2.71828182845905**(0.097344/bond_length**2)*(bond_length**7 + pred_e)"
      ]
     },
     "execution_count": 77,
     "metadata": {},
     "output_type": "execute_result"
    }
   ],
   "source": [
    "# parsimony = 0.03, MSE = 5\n",
    "next_e"
   ]
  },
  {
   "cell_type": "code",
   "execution_count": 98,
   "metadata": {},
   "outputs": [
    {
     "data": {
      "text/latex": [
       "$\\displaystyle 2.71828182845905^{\\frac{0.088804}{bond_{length}^{2}}} \\left(bond_{length}^{6} + pred_{e}\\right)$"
      ],
      "text/plain": [
       "2.71828182845905**(0.088804/bond_length**2)*(bond_length**6 + pred_e)"
      ]
     },
     "execution_count": 98,
     "metadata": {},
     "output_type": "execute_result"
    }
   ],
   "source": [
    "# parsimony = 0.035, MSE = 3.36\n",
    "next_e"
   ]
  },
  {
   "cell_type": "code",
   "execution_count": 84,
   "metadata": {},
   "outputs": [
    {
     "data": {
      "text/latex": [
       "$\\displaystyle 1.17370892018779 pred_{e} + 0.446$"
      ],
      "text/plain": [
       "1.17370892018779*pred_e + 0.446"
      ]
     },
     "execution_count": 84,
     "metadata": {},
     "output_type": "execute_result"
    }
   ],
   "source": [
    "# parsimony = 0.04, MSE = 4\n",
    "next_e"
   ]
  },
  {
   "cell_type": "code",
   "execution_count": 97,
   "metadata": {},
   "outputs": [
    {
     "name": "stdout",
     "output_type": "stream",
     "text": [
      "3.3609848337759276\n"
     ]
    },
    {
     "data": {
      "image/png": "[encoded data removed]",
      "text/plain": [
       "<Figure size 432x288 with 1 Axes>"
      ]
     },
     "metadata": {
      "needs_background": "light"
     },
     "output_type": "display_data"
    }
   ],
   "source": [
    "y_pred = model.predict(X)\n",
    "print(mean_squared_error(y, y_pred))\n",
    "\n",
    "plt.clf()\n",
    "plt.scatter(X.bond_length, y, label='true')\n",
    "plt.scatter(X.bond_length, y_pred, label='pred')\n",
    "plt.legend()\n",
    "plt.show()"
   ]
  }
 ],
 "metadata": {
  "kernelspec": {
   "display_name": "Python 3.10.5 ('molclub')",
   "language": "python",
   "name": "python3"
  },
  "language_info": {
   "codemirror_mode": {
    "name": "ipython",
    "version": 3
   },
   "file_extension": ".py",
   "mimetype": "text/x-python",
   "name": "python",
   "nbconvert_exporter": "python",
   "pygments_lexer": "ipython3",
   "version": "3.10.5"
  },
  "orig_nbformat": 4,
  "vscode": {
   "interpreter": {
    "hash": "d99df91ace14ae3af3010dabe2f6ce33aecd0647a307d6eed38c3d1d0e1f4f09"
   }
  }
 },
 "nbformat": 4,
 "nbformat_minor": 2
}
